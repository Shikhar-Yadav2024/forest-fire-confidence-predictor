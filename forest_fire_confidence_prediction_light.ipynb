version https://git-lfs.github.com/spec/v1
oid sha256:18303894ce1bd8a01322bf85af1ea50da5e21ee2d4ec1bd71a2eeb0268ba4d4e
size 139596
